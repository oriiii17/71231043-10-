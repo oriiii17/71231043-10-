{
 "cells": [
  {
   "cell_type": "code",
   "execution_count": 4,
   "id": "9afed175-c626-45cb-a878-a68f927f2ec2",
   "metadata": {},
   "outputs": [],
   "source": [
    "#Contoh 1 Diurut (Ordered) \n",
    "buah = ['apel', 'jeruk', 'pisang', 'mangga']\n",
    "angka = [10, 20, 30, 40, 50]\n",
    "campuran = [True, 3.14, 'Halo', 7]"
   ]
  },
  {
   "cell_type": "code",
   "execution_count": 5,
   "id": "b13fd794-83e9-453c-8043-fdc18866a2cc",
   "metadata": {},
   "outputs": [
    {
     "name": "stdout",
     "output_type": "stream",
     "text": [
      "[10, 20, 30, 40, 50]\n",
      "[10, 20, 35, 40, 50]\n",
      "[10, 20, 35, 40, 50, 60]\n"
     ]
    }
   ],
   "source": [
    "#Contoh 2 Dapat Diubah (Mutable) \n",
    "angka = [10, 20, 30, 40, 50]\n",
    "print(angka)  # Output: [10, 20, 30, 40, 50]\n",
    "\n",
    "angka[2] = 35  # Mengubah elemen ketiga menjadi 35\n",
    "print(angka)  # Output: [10, 20, 35, 40, 50]\n",
    "\n",
    "angka.append(60)  # Menambahkan elemen baru di akhir list\n",
    "print(angka)  # Output: [10, 20, 35, 40, 50, 60]"
   ]
  },
  {
   "cell_type": "code",
   "execution_count": 6,
   "id": "bb7aa483-934b-474f-a93b-837919ed0911",
   "metadata": {},
   "outputs": [
    {
     "name": "stdout",
     "output_type": "stream",
     "text": [
      "apel\n",
      "mangga\n",
      "['apel', 'jeruk', 'anggur', 'mangga', 'alpukat']\n",
      "alpukat\n",
      "anggur\n",
      "5\n"
     ]
    }
   ],
   "source": [
    "#Contoh 3 Diindeks (Indexed)\n",
    "buah = ['apel', 'jeruk', 'pisang', 'mangga', 'alpukat']\n",
    "\n",
    "# Mengakses elemen menggunakan indeks\n",
    "print(buah[0])  # Output: 'apel'\n",
    "print(buah[3])  # Output: 'mangga'\n",
    "\n",
    "# Mengubah elemen menggunakan indeks\n",
    "buah[2] = 'anggur'\n",
    "print(buah)  # Output: ['apel', 'jeruk', 'anggur', 'mangga', 'alpukat']\n",
    "\n",
    "# Mengakses elemen menggunakan indeks negatif\n",
    "print(buah[-1])  # Output: 'alpukat' (indeks -1 merujuk ke elemen terakhir)\n",
    "print(buah[-3])  # Output: 'anggur' (indeks -3 merujuk ke elemen ketiga dari belakang)\n",
    "\n",
    "# Mendapatkan panjang list\n",
    "panjang_list = len(buah)\n",
    "print(panjang_list) "
   ]
  },
  {
   "cell_type": "code",
   "execution_count": 7,
   "id": "0bd735cc-4ee7-4835-9c77-ce48924943cb",
   "metadata": {},
   "outputs": [
    {
     "name": "stdout",
     "output_type": "stream",
     "text": [
      "[True, 3.14, 'Halo', 7, [1, 2, 3]]\n"
     ]
    }
   ],
   "source": [
    "#Contoh 4 Dapat Menyimpan Berbagai Tipe Data \n",
    "campuran = [True, 3.14, 'Halo', 7, [1, 2, 3]]\n",
    "print(campuran)  # Output: [True, 3.14, 'Halo', 7, [1, 2, 3]]"
   ]
  },
  {
   "cell_type": "code",
   "execution_count": 3,
   "id": "86c4c0aa-b3dc-4b4d-9445-c571d4d7a06a",
   "metadata": {},
   "outputs": [],
   "source": [
    "#Contoh membuat list di Python\n",
    "buah = ['apel', 'jeruk', 'pisang', 'mangga']\n",
    "angka = [10, 20, 30, 40, 50]\n",
    "campuran = [True, 3.14, 'Halo', 7]"
   ]
  },
  {
   "cell_type": "code",
   "execution_count": null,
   "id": "0174f253-6339-42e8-a5e4-74cc43eec9c9",
   "metadata": {},
   "outputs": [],
   "source": [
    "#Contoh mengakses atau memodifikasi elemen dalam list menggunakan indeks\n",
    "buah = ['apel', 'jeruk', 'pisang', 'mangga']\n",
    "angka = [10, 20, 30, 40, 50]\n",
    "campuran = [True, 3.14, 'Halo', 7]\n",
    "\n",
    "print(buah[0])  # Output: 'apel'\n",
    "print(angka[2])  # Output: 30\n",
    "\n",
    "buah[1] = 'lemon'  # Mengubah elemen kedua menjadi \"lemon\"\n",
    "angka.append(60)   # Menambahkan elemen baru ke akhir list"
   ]
  },
  {
   "cell_type": "code",
   "execution_count": 8,
   "id": "48794c03-3a55-4ae0-aa50-71e417504391",
   "metadata": {},
   "outputs": [
    {
     "name": "stdout",
     "output_type": "stream",
     "text": [
      "J\n",
      "John\n",
      "3\n",
      "[10, 2, 3, 4, 5]\n"
     ]
    }
   ],
   "source": [
    "#Contoh String\n",
    "nama = \"John Doe\"\n",
    "print(nama[0])     # Output: 'J'\n",
    "print(nama[:4])    # Output: 'John'\n",
    "\n",
    "# List\n",
    "angka = [1, 2, 3, 4, 5]\n",
    "print(angka[2])    # Output: 3\n",
    "angka[0] = 10      # Mengubah elemen pertama menjadi 10\n",
    "print(angka)       # Output: [10, 2, 3, 4, 5]"
   ]
  },
  {
   "cell_type": "code",
   "execution_count": 9,
   "id": "4ec384ea-fbfe-479c-ba80-1ef5be6a4749",
   "metadata": {},
   "outputs": [
    {
     "name": "stdin",
     "output_type": "stream",
     "text": [
      "Masukkan nilai-nilai dipisahkan dengan spasi:  90 11 17\n"
     ]
    },
    {
     "name": "stdout",
     "output_type": "stream",
     "text": [
      "3 nilai terbaik adalah:\n",
      "1. 90\n",
      "2. 17\n",
      "3. 11\n"
     ]
    }
   ],
   "source": [
    "#Latihan 9.1\n",
    "# Mengambil input list dari pengguna\n",
    "nilai_list = input(\"Masukkan nilai-nilai dipisahkan dengan spasi: \").split()\n",
    "\n",
    "# Mengonversi setiap elemen menjadi integer\n",
    "nilai_list = [int(x) for x in nilai_list]\n",
    "\n",
    "# Mengurutkan list secara descending (menurun)\n",
    "nilai_list.sort(reverse=True)\n",
    "\n",
    "# Menampilkan 3 nilai terbaik\n",
    "print(\"3 nilai terbaik adalah:\")\n",
    "print(f\"1. {nilai_list[0]}\")\n",
    "print(f\"2. {nilai_list[1]}\")\n",
    "print(f\"3. {nilai_list[2]}\")"
   ]
  },
  {
   "cell_type": "code",
   "execution_count": 10,
   "id": "dd3373ec-5d48-4312-a075-37bdf8adce8f",
   "metadata": {},
   "outputs": [
    {
     "name": "stdin",
     "output_type": "stream",
     "text": [
      "Masukkan angka (atau 'done' untuk selesai):  12\n",
      "Masukkan angka (atau 'done' untuk selesai):  23\n",
      "Masukkan angka (atau 'done' untuk selesai):  23\n",
      "Masukkan angka (atau 'done' untuk selesai):  done\n"
     ]
    },
    {
     "name": "stdout",
     "output_type": "stream",
     "text": [
      "Nilai maksimum: 23\n",
      "Nilai minimum: 12\n"
     ]
    }
   ],
   "source": [
    "#Latihan 9.2 \n",
    "# Membuat list kosong untuk menyimpan angka\n",
    "angka_list = []\n",
    "\n",
    "# Mengambil input dari pengguna\n",
    "while True:\n",
    "    masukan = input(\"Masukkan angka (atau 'done' untuk selesai): \")\n",
    "    if masukan == 'done':\n",
    "        break\n",
    "    else:\n",
    "        try:\n",
    "            angka_list.append(int(masukan))\n",
    "        except ValueError:\n",
    "            print(\"Input tidak valid. Masukkan angka atau 'done'.\")\n",
    "\n",
    "# Menampilkan nilai maksimum dan minimum\n",
    "if angka_list:\n",
    "    nilai_maksimum = max(angka_list)\n",
    "    nilai_minimum = min(angka_list)\n",
    "    print(f\"Nilai maksimum: {nilai_maksimum}\")\n",
    "    print(f\"Nilai minimum: {nilai_minimum}\")\n",
    "else:\n",
    "    print(\"Tidak ada angka yang dimasukkan.\")"
   ]
  },
  {
   "cell_type": "code",
   "execution_count": null,
   "id": "f5dfcd32-2af3-4430-82c9-6ae0e97fe030",
   "metadata": {},
   "outputs": [],
   "source": [
    "#Latihan 9.3 \n",
    "# Membuka file artikel.txt\n",
    "with open('artikel.txt', 'r') as file:\n",
    "    isi_artikel = file.read()\n",
    "\n",
    "# Memecah artikel menjadi kata-kata (list)\n",
    "kata_kata = isi_artikel.split()\n",
    "\n",
    "# Membuat set untuk menyimpan kata-kata unik\n",
    "kata_unik = set(kata_kata)\n",
    "\n",
    "# Menyimpan kata-kata unik dalam file berita.txt\n",
    "with open('berita.txt', 'w') as file:\n",
    "    for kata in kata_unik:\n",
    "        file.write(kata + '\\n')\n",
    "\n",
    "print(\"Proses pembuatan file berita.txt selesai.\")"
   ]
  }
 ],
 "metadata": {
  "kernelspec": {
   "display_name": "Python 3 (ipykernel)",
   "language": "python",
   "name": "python3"
  },
  "language_info": {
   "codemirror_mode": {
    "name": "ipython",
    "version": 3
   },
   "file_extension": ".py",
   "mimetype": "text/x-python",
   "name": "python",
   "nbconvert_exporter": "python",
   "pygments_lexer": "ipython3",
   "version": "3.11.7"
  }
 },
 "nbformat": 4,
 "nbformat_minor": 5
}
